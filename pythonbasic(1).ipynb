{
 "cells": [
  {
   "cell_type": "code",
   "execution_count": 4,
   "id": "7562b81b-cf3f-43e8-adf9-779d5c2c085c",
   "metadata": {},
   "outputs": [],
   "source": [
    "#1. In the below elements which of them are values or an expression? eg:- values can be\n",
    "#integer or string and expressions will be mathematical operators.\n",
    "#*\n",
    "#\"hello\"\n",
    "#-87.8\n",
    "#-\n",
    "#/\n",
    "#+\n",
    "#6"
   ]
  },
  {
   "cell_type": "code",
   "execution_count": 7,
   "id": "5ccd9eb9-12c2-49f4-816a-91e5ba1dc2f4",
   "metadata": {},
   "outputs": [
    {
     "data": {
      "text/plain": [
       "'values = \"hello\",-87.8,6\\nexpression = *,-,/,+'"
      ]
     },
     "execution_count": 7,
     "metadata": {},
     "output_type": "execute_result"
    }
   ],
   "source": [
    "\"\"\"values = \"hello\",-87.8,6\n",
    "expression = *,-,/,+\"\"\""
   ]
  },
  {
   "cell_type": "code",
   "execution_count": 9,
   "id": "0ece680b-fe4a-4b3f-92bb-35c82d6eb0d8",
   "metadata": {},
   "outputs": [
    {
     "data": {
      "text/plain": [
       "'A Variable is a store of information, and a String is a type of information you would store in a Variable'"
      ]
     },
     "execution_count": 9,
     "metadata": {},
     "output_type": "execute_result"
    }
   ],
   "source": [
    "#2. What is the difference between string and variable?\n",
    "\"\"\"A Variable is a store of information, and a String is a type of information you would store in a Variable\"\"\""
   ]
  },
  {
   "cell_type": "code",
   "execution_count": 11,
   "id": "ecc59040-c6fc-4040-a1b6-447f218edec8",
   "metadata": {},
   "outputs": [
    {
     "data": {
      "text/plain": [
       "'int = 555 \\n   floeat = 55.5 (decimal numbers)\\n   list = [1,2,3,4]'"
      ]
     },
     "execution_count": 11,
     "metadata": {},
     "output_type": "execute_result"
    }
   ],
   "source": [
    "#3. Describe three different data types.\n",
    "\"\"\"int = 555 \n",
    "   floeat = 55.5 (decimal numbers)\n",
    "   list = [1,2,3,4]\"\"\""
   ]
  },
  {
   "cell_type": "code",
   "execution_count": 13,
   "id": "4a5778ca-5034-4f84-8683-9c1fea1299c2",
   "metadata": {},
   "outputs": [
    {
     "data": {
      "text/plain": [
       "'expression are made up of operatators and operands.it gives some other value for the given data.'"
      ]
     },
     "execution_count": 13,
     "metadata": {},
     "output_type": "execute_result"
    }
   ],
   "source": [
    "#4. What is an expression made up of? What do all expressions do?\n",
    "\"\"\"expression are made up of operatators and operands.it gives some other value for the given data.\"\"\""
   ]
  },
  {
   "cell_type": "code",
   "execution_count": 15,
   "id": "b936be5c-9670-4629-952f-e6df0d8b18c5",
   "metadata": {},
   "outputs": [
    {
     "data": {
      "text/plain": [
       "'spam = 10 is statement variable spam stores the information 10\\nif we are assigning a operations (spam = spam + 10) that will be consider as an expression.'"
      ]
     },
     "execution_count": 15,
     "metadata": {},
     "output_type": "execute_result"
    }
   ],
   "source": [
    "#5. This assignment statements, like spam = 10. What is the difference between an\n",
    "#expression and a statement?\n",
    "\"\"\"spam = 10 is statement variable spam stores the information 10\n",
    "if we are assigning a operations (spam = spam + 10) that will be consider as an expression.\"\"\" "
   ]
  },
  {
   "cell_type": "code",
   "execution_count": 17,
   "id": "022b54a2-e40d-4747-b614-460a6643e0a7",
   "metadata": {},
   "outputs": [
    {
     "data": {
      "text/plain": [
       "23"
      ]
     },
     "execution_count": 17,
     "metadata": {},
     "output_type": "execute_result"
    }
   ],
   "source": [
    "#6. After running the following code, what does the variable bacon contain?\n",
    "bacon = 22 #vaiable bacon stores a int datatype \n",
    "bacon + 1  #we can add same datatype values"
   ]
  },
  {
   "cell_type": "code",
   "execution_count": 23,
   "id": "3df405dd-fbe0-4b30-86cb-cfdb4d03ea8a",
   "metadata": {},
   "outputs": [
    {
     "data": {
      "text/plain": [
       "'spamspamspam'"
      ]
     },
     "execution_count": 23,
     "metadata": {},
     "output_type": "execute_result"
    }
   ],
   "source": [
    "#7. What should the values of the following two terms be?\n",
    "\"spam\" + \"spamspam\" #adding string \n"
   ]
  },
  {
   "cell_type": "code",
   "execution_count": 25,
   "id": "d7e7f30b-e563-4319-9d86-4fdf42e12b96",
   "metadata": {},
   "outputs": [
    {
     "data": {
      "text/plain": [
       "'spamspamspam'"
      ]
     },
     "execution_count": 25,
     "metadata": {},
     "output_type": "execute_result"
    }
   ],
   "source": [
    "\"spam\"*3 #multiplying string values"
   ]
  },
  {
   "cell_type": "code",
   "execution_count": 28,
   "id": "21fe2eda-9d22-4698-93d9-0b33748f3331",
   "metadata": {},
   "outputs": [
    {
     "data": {
      "text/plain": [
       "'variavles have to start in letters not in special characters and integers'"
      ]
     },
     "execution_count": 28,
     "metadata": {},
     "output_type": "execute_result"
    }
   ],
   "source": [
    "#8. Why is eggs a valid variable name while 100 is invalid?\n",
    "\"\"\"variavles have to start in letters not in special characters and integers\"\"\""
   ]
  },
  {
   "cell_type": "code",
   "execution_count": 31,
   "id": "4d09ec88-2c1c-482d-87b9-1cd88921193d",
   "metadata": {},
   "outputs": [
    {
     "data": {
      "text/plain": [
       "' int() , float() , str()'"
      ]
     },
     "execution_count": 31,
     "metadata": {},
     "output_type": "execute_result"
    }
   ],
   "source": [
    "#9. What three functions can be used to get the integer, floating-point number, or string version of a value?\n",
    "\"\"\" int() , float() , str()\"\"\""
   ]
  },
  {
   "cell_type": "code",
   "execution_count": 33,
   "id": "1771bf23-393d-4329-b072-8dbe2f114a29",
   "metadata": {},
   "outputs": [
    {
     "ename": "TypeError",
     "evalue": "can only concatenate str (not \"int\") to str",
     "output_type": "error",
     "traceback": [
      "\u001b[0;31m---------------------------------------------------------------------------\u001b[0m",
      "\u001b[0;31mTypeError\u001b[0m                                 Traceback (most recent call last)",
      "Cell \u001b[0;32mIn [33], line 2\u001b[0m\n\u001b[1;32m      1\u001b[0m \u001b[38;5;66;03m#10. Why does this expression cause an error? How can you fix it?\u001b[39;00m\n\u001b[0;32m----> 2\u001b[0m \u001b[38;5;124;43m\"\u001b[39;49m\u001b[38;5;124;43mi have eaten \u001b[39;49m\u001b[38;5;124;43m\"\u001b[39;49m\u001b[43m \u001b[49m\u001b[38;5;241;43m+\u001b[39;49m\u001b[43m \u001b[49m\u001b[38;5;241;43m99\u001b[39;49m \u001b[38;5;241m+\u001b[39m \u001b[38;5;124m\"\u001b[39m\u001b[38;5;124mburritos.\u001b[39m\u001b[38;5;124m\"\u001b[39m\n",
      "\u001b[0;31mTypeError\u001b[0m: can only concatenate str (not \"int\") to str"
     ]
    }
   ],
   "source": [
    "#10. Why does this expression cause an error? How can you fix it?\n",
    "\"i have eaten \" + 99 + \"burritos.\" #we are not supposed to add different datatypes"
   ]
  }
 ],
 "metadata": {
  "kernelspec": {
   "display_name": "Python 3 (ipykernel)",
   "language": "python",
   "name": "python3"
  },
  "language_info": {
   "codemirror_mode": {
    "name": "ipython",
    "version": 3
   },
   "file_extension": ".py",
   "mimetype": "text/x-python",
   "name": "python",
   "nbconvert_exporter": "python",
   "pygments_lexer": "ipython3",
   "version": "3.10.6"
  }
 },
 "nbformat": 4,
 "nbformat_minor": 5
}
