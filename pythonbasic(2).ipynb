{
 "cells": [
  {
   "cell_type": "code",
   "execution_count": 3,
   "id": "cb3f164c-646d-4e38-aaba-1d3df20a2345",
   "metadata": {},
   "outputs": [
    {
     "data": {
      "text/plain": [
       "'True and False use T and F in upper case and all others are in lower case'"
      ]
     },
     "execution_count": 3,
     "metadata": {},
     "output_type": "execute_result"
    }
   ],
   "source": [
    "#1.What are the two values of the Boolean data type? How do you write them?\n",
    "\"True and False use T and F in upper case and all others are in lower case\""
   ]
  },
  {
   "cell_type": "code",
   "execution_count": 6,
   "id": "aa54cbc9-6485-4ee1-b5f0-9df35d19d4ea",
   "metadata": {},
   "outputs": [
    {
     "data": {
      "text/plain": [
       "'and , or and not'"
      ]
     },
     "execution_count": 6,
     "metadata": {},
     "output_type": "execute_result"
    }
   ],
   "source": [
    "#2. What are the three different types of Boolean operators?\n",
    "\"and , or and not\""
   ]
  },
  {
   "cell_type": "code",
   "execution_count": null,
   "id": "f840e52a-3277-4018-b568-d5327a99164f",
   "metadata": {},
   "outputs": [],
   "source": [
    "#3. Make a list of each Boolean operator&#39;s truth tables (i.e. every possible combination of Booleanvalues for the operator and what it evaluate ).\n",
    "\"True and True is True.\"\n",
    "\n",
    "\"True and False is False.\"\n",
    "\n",
    "\"False and True is False.\"\n",
    "\n",
    "\"False and False is False.\"\n",
    "\n",
    "\"True or True is True.\"\n",
    "\n",
    "\"True or False is True.\"\n",
    "\n",
    "\"False or True is True.\"\n",
    "\n",
    "\"False or False is False.\"\n",
    "\n",
    "\"not True is False.\"\n",
    "\n",
    "\"not False is True.\"\n",
    "\n"
   ]
  },
  {
   "cell_type": "code",
   "execution_count": 16,
   "id": "8841753d-8323-4382-b2af-68c454f0fe19",
   "metadata": {},
   "outputs": [
    {
     "data": {
      "text/plain": [
       "False"
      ]
     },
     "execution_count": 16,
     "metadata": {},
     "output_type": "execute_result"
    }
   ],
   "source": [
    "#4. What are the values of the following expressions?\n",
    "(5 > 4) and (3 == 5)"
   ]
  },
  {
   "cell_type": "code",
   "execution_count": 18,
   "id": "6bc0e587-d95c-401e-81ad-9afccb7605eb",
   "metadata": {},
   "outputs": [
    {
     "data": {
      "text/plain": [
       "False"
      ]
     },
     "execution_count": 18,
     "metadata": {},
     "output_type": "execute_result"
    }
   ],
   "source": [
    "not (5>4)"
   ]
  },
  {
   "cell_type": "code",
   "execution_count": 20,
   "id": "82ab8360-98d7-4b8d-b0e0-55b570c31d6e",
   "metadata": {},
   "outputs": [
    {
     "data": {
      "text/plain": [
       "True"
      ]
     },
     "execution_count": 20,
     "metadata": {},
     "output_type": "execute_result"
    }
   ],
   "source": [
    "(5 > 4) or (3 == 5)"
   ]
  },
  {
   "cell_type": "code",
   "execution_count": 22,
   "id": "e975e5b0-6c01-4120-9f89-397ce324d8d5",
   "metadata": {},
   "outputs": [
    {
     "data": {
      "text/plain": [
       "False"
      ]
     },
     "execution_count": 22,
     "metadata": {},
     "output_type": "execute_result"
    }
   ],
   "source": [
    "not ((5 > 4) or (3 == 5))"
   ]
  },
  {
   "cell_type": "code",
   "execution_count": 24,
   "id": "010de743-21dc-4d8c-9240-f4ab83834bbd",
   "metadata": {},
   "outputs": [
    {
     "data": {
      "text/plain": [
       "False"
      ]
     },
     "execution_count": 24,
     "metadata": {},
     "output_type": "execute_result"
    }
   ],
   "source": [
    "(True and True) and (True == False)"
   ]
  },
  {
   "cell_type": "code",
   "execution_count": 26,
   "id": "79c7e957-61b8-4f59-ae28-7c6eb9363dbf",
   "metadata": {},
   "outputs": [
    {
     "data": {
      "text/plain": [
       "True"
      ]
     },
     "execution_count": 26,
     "metadata": {},
     "output_type": "execute_result"
    }
   ],
   "source": [
    "(not False) or (not True)"
   ]
  },
  {
   "cell_type": "code",
   "execution_count": 28,
   "id": "1980c827-c64c-47e8-9e37-b2a586dd4c9f",
   "metadata": {},
   "outputs": [
    {
     "data": {
      "text/plain": [
       "' ==,!=,>,<,>=,<='"
      ]
     },
     "execution_count": 28,
     "metadata": {},
     "output_type": "execute_result"
    }
   ],
   "source": [
    "#5. What are the six comparison operators?\n",
    "\" ==,!=,>,<,>=,<=\""
   ]
  },
  {
   "cell_type": "code",
   "execution_count": 31,
   "id": "d71c2172-b759-48b3-bf93-28e33fd6b0d6",
   "metadata": {},
   "outputs": [
    {
     "data": {
      "text/plain": [
       "'= is the operator that we can store inside a variable'"
      ]
     },
     "execution_count": 31,
     "metadata": {},
     "output_type": "execute_result"
    }
   ],
   "source": [
    "#6. How do you tell the difference between the equal to and assignment operators?Describe acondition and when you would use one.\n",
    "\"\"\"== is the value that compares the values turn it out into a boolean\"\"\"\n",
    "\"\"\"= is the operator that we can store inside a variable\"\"\""
   ]
  },
  {
   "cell_type": "code",
   "execution_count": null,
   "id": "217fd574-19c2-45e2-82ab-698e22c42d6c",
   "metadata": {},
   "outputs": [],
   "source": [
    "#7. Identify the three blocks in this code:\n",
    "spam = 0\n",
    "if spam == 10:\n",
    "print(\"eggs\")\n",
    "if spam > 5:\n",
    "print(\"bacon\")\n",
    "else:\n",
    "print(\"ham\")\n",
    "print(\"spam\")\n",
    "print(\"spam\")\n",
    "\n",
    " "
   ]
  },
  {
   "cell_type": "code",
   "execution_count": null,
   "id": "48f7f451-babe-4d08-aa73-c67b5bbb0d03",
   "metadata": {},
   "outputs": [],
   "source": [
    "\"\"\"The three blocks are everything inside the if statement and the lines print('bacon') and print('ham').\n",
    "\n",
    "print('eggs')\n",
    "if spam > 5:\n",
    "print('bacon')\n",
    "else:\n",
    "print('ham')\n",
    "print('spam')\"\"\""
   ]
  },
  {
   "cell_type": "code",
   "execution_count": null,
   "id": "e2f7c0f5-bf76-4e29-9fa7-ad5c3a50523c",
   "metadata": {},
   "outputs": [],
   "source": [
    "#8. Write code that prints Hello if 1 is stored in spam, prints Howdy if 2 is stored in spam, and printsGreetings! if anything else is stored in spam.\n",
    "if spam == 1:\n",
    "           print(\"Hello\")\n",
    "elif spam ==2:\n",
    "            print(\"Howdy\")\n",
    "else:\n",
    "           print(\"Greetings\")"
   ]
  },
  {
   "cell_type": "code",
   "execution_count": 52,
   "id": "d4227a8d-eb14-4be5-bbc5-306f134e6a88",
   "metadata": {},
   "outputs": [
    {
     "data": {
      "text/plain": [
       "'press Ctrl-c to stop the program stuck in infinite loop'"
      ]
     },
     "execution_count": 52,
     "metadata": {},
     "output_type": "execute_result"
    }
   ],
   "source": [
    "#9.If your programme is stuck in an endless loop, what keys you’ll press?\n",
    "\"press Ctrl-c to stop the program stuck in infinite loop\""
   ]
  },
  {
   "cell_type": "code",
   "execution_count": null,
   "id": "23287a90-4d6d-469e-9e36-b41b89e87bb9",
   "metadata": {},
   "outputs": [],
   "source": [
    "#10. How can you tell the difference between break and continue?\n",
    "\"\"\"the break statement move the execution outside after the loop\n",
    "   the continues statement move the execution to start of the loop\"\"\""
   ]
  },
  {
   "cell_type": "code",
   "execution_count": 60,
   "id": "8f5bdb1b-4441-49ab-b358-92a079dcb674",
   "metadata": {},
   "outputs": [
    {
     "data": {
      "text/plain": [
       "'they all do the same thing range(10) startup from 0 to not including 10,range(0,10) \\nit tells the loop to start from 0 and range(0,10,1) tells that increase variable value by adding 1 on each iteration'"
      ]
     },
     "execution_count": 60,
     "metadata": {},
     "output_type": "execute_result"
    }
   ],
   "source": [
    "#11. In a for loop, what is the difference between range(10), range(0, 10), and range(0, 10, 1)?\n",
    "\"\"\"they all do the same thing range(10) startup from 0 to not including 10,range(0,10) \n",
    "it tells the loop to start from 0 and range(0,10,1) tells that increase variable value by adding 1 on each iteration\"\"\""
   ]
  },
  {
   "cell_type": "code",
   "execution_count": 61,
   "id": "22fc5f4e-a30e-4a7d-b444-25a04f2d3427",
   "metadata": {},
   "outputs": [],
   "source": [
    "#12. Write a short program that prints the numbers 1 to 10 using a for loop. Then write an equivalent\n",
    "#program that prints the numbers 1 to 10 using a while loop."
   ]
  },
  {
   "cell_type": "code",
   "execution_count": 63,
   "id": "314d3b77-42c3-4717-bb1a-4377dcae86f9",
   "metadata": {},
   "outputs": [
    {
     "name": "stdout",
     "output_type": "stream",
     "text": [
      "1\n",
      "2\n",
      "3\n",
      "4\n",
      "5\n",
      "6\n",
      "7\n",
      "8\n",
      "9\n",
      "10\n"
     ]
    }
   ],
   "source": [
    "for i in range(1,11):\n",
    "    print(i)"
   ]
  },
  {
   "cell_type": "code",
   "execution_count": 74,
   "id": "d34968c9-cd5b-4e76-a791-0bc30d0e7e06",
   "metadata": {},
   "outputs": [
    {
     "name": "stdout",
     "output_type": "stream",
     "text": [
      "1\n",
      "2\n",
      "3\n",
      "4\n",
      "5\n",
      "6\n",
      "7\n",
      "8\n",
      "9\n",
      "10\n"
     ]
    }
   ],
   "source": [
    "i = 1 \n",
    "while i<=10:\n",
    "    print(i)\n",
    "    i = i+1"
   ]
  },
  {
   "cell_type": "code",
   "execution_count": 76,
   "id": "25a10c4e-7511-4afb-be6b-bfae43d2d145",
   "metadata": {},
   "outputs": [
    {
     "data": {
      "text/plain": [
       "'spam.bacon()'"
      ]
     },
     "execution_count": 76,
     "metadata": {},
     "output_type": "execute_result"
    }
   ],
   "source": [
    "#13. If you had a function named bacon() inside a module named spam, how would you call it after\n",
    "#importing spam?\n",
    "\"spam.bacon()\""
   ]
  },
  {
   "cell_type": "code",
   "execution_count": null,
   "id": "4aa436ea-b245-4280-9a43-cc51416dc5e7",
   "metadata": {},
   "outputs": [],
   "source": []
  }
 ],
 "metadata": {
  "kernelspec": {
   "display_name": "Python 3 (ipykernel)",
   "language": "python",
   "name": "python3"
  },
  "language_info": {
   "codemirror_mode": {
    "name": "ipython",
    "version": 3
   },
   "file_extension": ".py",
   "mimetype": "text/x-python",
   "name": "python",
   "nbconvert_exporter": "python",
   "pygments_lexer": "ipython3",
   "version": "3.10.6"
  }
 },
 "nbformat": 4,
 "nbformat_minor": 5
}
