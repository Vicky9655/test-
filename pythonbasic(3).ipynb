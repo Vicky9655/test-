{
 "cells": [
  {
   "cell_type": "code",
   "execution_count": null,
   "id": "5cc273fe-7f38-4b88-8a6c-2241eb51e16b",
   "metadata": {},
   "outputs": [],
   "source": [
    "#1. Why are functions advantageous to have in your programs?\n",
    "\"functions can reduce a need of duplicate value. It makes to code easier and shorter.\""
   ]
  },
  {
   "cell_type": "code",
   "execution_count": null,
   "id": "250da316-cad1-4a28-aad6-e0074cf8a26c",
   "metadata": {},
   "outputs": [],
   "source": [
    "#2. When does the code in a function run: when its specified or when its called?\n",
    "\"The code in a function executes when the function is called not when the function is defined\"\n"
   ]
  },
  {
   "cell_type": "code",
   "execution_count": null,
   "id": "12659583-506e-4a69-bdd1-ef502ed3480a",
   "metadata": {},
   "outputs": [],
   "source": [
    "#3. What statement creates a function?\n",
    "\"def statement defines how to create a function\""
   ]
  },
  {
   "cell_type": "code",
   "execution_count": null,
   "id": "31442d4e-3b4d-42db-a6bf-01af0e8758e5",
   "metadata": {},
   "outputs": [],
   "source": [
    "#4. What is the difference between a function and a function call?\n",
    "\"\"\"A function consists of the def statement and the code in its def clause. A function call is what moves\n",
    "the program execution into the function,and the function call evaluates to the function's return value.\"\"\""
   ]
  },
  {
   "cell_type": "code",
   "execution_count": null,
   "id": "399e38c3-308a-4771-a959-20fe8b97cbfa",
   "metadata": {},
   "outputs": [],
   "source": [
    "#5. How many global scopes are there in a Python program? How many local scopes?\n",
    "\" There is one global scope, and a local scope is created whenever function is called\""
   ]
  },
  {
   "cell_type": "code",
   "execution_count": null,
   "id": "2952e3e0-c19e-4f90-bfc5-63ab1dc52a0e",
   "metadata": {},
   "outputs": [],
   "source": [
    "#6. What happens to variables in a local scope when the function call returns?\n",
    "\"When a function returns, the local scope is destroyed, and all the variables in it are forgotten.\""
   ]
  },
  {
   "cell_type": "code",
   "execution_count": null,
   "id": "bd4c30fb-11fc-4c96-8023-48ea9e25f49c",
   "metadata": {},
   "outputs": [],
   "source": [
    "#7. What is the concept of a return value? Is it possible to have a return value in an expression?\n",
    "\"A return value is the value that a function call evaluates to. Like any value, a return value can be used as part of an expression.\""
   ]
  },
  {
   "cell_type": "code",
   "execution_count": null,
   "id": "4fbe48c3-1d58-410f-b7b2-62274b5b580f",
   "metadata": {},
   "outputs": [],
   "source": [
    "#8. If a function does not have a return statement, what is the return value of a call to that function?\n",
    "\"If there is no return statement for a function, its return value is None.\""
   ]
  },
  {
   "cell_type": "code",
   "execution_count": null,
   "id": "94634934-d7fd-4596-a6ab-2cc5ca2fddfe",
   "metadata": {},
   "outputs": [],
   "source": [
    "#9. How do you make a function variable refer to the global variable?\n",
    "\n",
    "\"A global statement will force a variable in a function to refer to the global variable.\""
   ]
  },
  {
   "cell_type": "code",
   "execution_count": null,
   "id": "7381c563-52de-413a-9329-3bd57bbc8772",
   "metadata": {},
   "outputs": [],
   "source": [
    "#10. What is the data type of None?\n",
    "\"None is a data type of its own (NoneType) and only None can be None.\""
   ]
  },
  {
   "cell_type": "code",
   "execution_count": null,
   "id": "473d5e4e-96c1-4e5c-b370-ad77254001d5",
   "metadata": {},
   "outputs": [],
   "source": [
    "#11. What does the sentence import areallyourpetsnamederic do?\n",
    "\"the import sentence will import module name of areaLLyourpetsnamederic\""
   ]
  },
  {
   "cell_type": "code",
   "execution_count": null,
   "id": "6d8311c6-fa98-4916-a6bf-8330b92c21f4",
   "metadata": {},
   "outputs": [],
   "source": [
    "#12. If you had a bacon() feature in a spam module, what would you call it after importing spam?\n",
    "\"spam.bacon()\""
   ]
  },
  {
   "cell_type": "code",
   "execution_count": null,
   "id": "21fd2e22-3b4f-47e2-834a-93cc9f942472",
   "metadata": {},
   "outputs": [],
   "source": [
    "#13. What can you do to save a programme from crashing if it encounters an error?\n",
    "\"Place the line of code that might cause an error in a try clause.\""
   ]
  },
  {
   "cell_type": "code",
   "execution_count": null,
   "id": "1efa80b4-725a-4cfc-b077-021d481dd9e4",
   "metadata": {},
   "outputs": [],
   "source": [
    "#14. What is the purpose of the try clause? What is the purpose of the except clause?\n",
    "\"\"\"\"The code that could potentially cause an error goes in the try clause.\n",
    "The code that executes if an error happens goes in the except clause.\"\"\""
   ]
  }
 ],
 "metadata": {
  "kernelspec": {
   "display_name": "Python 3 (ipykernel)",
   "language": "python",
   "name": "python3"
  },
  "language_info": {
   "codemirror_mode": {
    "name": "ipython",
    "version": 3
   },
   "file_extension": ".py",
   "mimetype": "text/x-python",
   "name": "python",
   "nbconvert_exporter": "python",
   "pygments_lexer": "ipython3",
   "version": "3.10.6"
  }
 },
 "nbformat": 4,
 "nbformat_minor": 5
}
